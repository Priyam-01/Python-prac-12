{
 "cells": [
  {
   "cell_type": "code",
   "execution_count": 1,
   "id": "97572d3d",
   "metadata": {},
   "outputs": [
    {
     "name": "stdout",
     "output_type": "stream",
     "text": [
      "30\n"
     ]
    }
   ],
   "source": [
    "a = 10\n",
    "b = 20\n",
    "print(a+b)"
   ]
  },
  {
   "cell_type": "code",
   "execution_count": 2,
   "id": "7c245c97",
   "metadata": {},
   "outputs": [],
   "source": [
    "def test(a,b):\n",
    "    print(a+b)"
   ]
  },
  {
   "cell_type": "code",
   "execution_count": 3,
   "id": "8238b052",
   "metadata": {},
   "outputs": [
    {
     "name": "stdout",
     "output_type": "stream",
     "text": [
      "9\n"
     ]
    }
   ],
   "source": [
    "test(5,4)"
   ]
  },
  {
   "cell_type": "code",
   "execution_count": 7,
   "id": "78111348",
   "metadata": {},
   "outputs": [
    {
     "name": "stdout",
     "output_type": "stream",
     "text": [
      "9\n",
      "None\n"
     ]
    }
   ],
   "source": [
    "def test(a,b):\n",
    "    print(a+b)\n",
    "a = test(5,4)\n",
    "print(a)"
   ]
  },
  {
   "cell_type": "code",
   "execution_count": 6,
   "id": "ac7bdf1e",
   "metadata": {},
   "outputs": [
    {
     "name": "stdout",
     "output_type": "stream",
     "text": [
      "9\n"
     ]
    }
   ],
   "source": [
    "def test(a,b):\n",
    "    return(a+b)\n",
    "a = test(5,4)\n",
    "print(a)"
   ]
  },
  {
   "cell_type": "code",
   "execution_count": 8,
   "id": "4ff2d9ce",
   "metadata": {},
   "outputs": [],
   "source": [
    "#local and global variable"
   ]
  },
  {
   "cell_type": "code",
   "execution_count": 9,
   "id": "3fea41a9",
   "metadata": {},
   "outputs": [
    {
     "name": "stdout",
     "output_type": "stream",
     "text": [
      "one\n",
      "python\n"
     ]
    }
   ],
   "source": [
    "a = \"one\"\n",
    "def test():\n",
    "    a = \"python\" #local variable\n",
    "    return(a)\n",
    "\n",
    "print(a)\n",
    "a = test()\n",
    "print(a)"
   ]
  },
  {
   "cell_type": "code",
   "execution_count": 10,
   "id": "3ce3e51f",
   "metadata": {},
   "outputs": [
    {
     "name": "stdout",
     "output_type": "stream",
     "text": [
      "one\n",
      "one\n"
     ]
    }
   ],
   "source": [
    "a = \"one\"\n",
    "\n",
    "def test():\n",
    "    a = \"python\" # local variable\n",
    "    return(a)\n",
    "\n",
    "print(a)\n",
    "test()\n",
    "print(a)"
   ]
  },
  {
   "cell_type": "code",
   "execution_count": 3,
   "id": "d864028d",
   "metadata": {},
   "outputs": [
    {
     "name": "stdout",
     "output_type": "stream",
     "text": [
      "one\n",
      "python\n",
      "one\n"
     ]
    }
   ],
   "source": [
    "a = \"one\"\n",
    "\n",
    "def test():\n",
    "    a = \"python\" # local variable\n",
    "    return(a)\n",
    "\n",
    "print(a)\n",
    "print(test())\n",
    "print(a)"
   ]
  },
  {
   "cell_type": "code",
   "execution_count": 11,
   "id": "ff3325d0",
   "metadata": {},
   "outputs": [
    {
     "name": "stdout",
     "output_type": "stream",
     "text": [
      "one\n"
     ]
    },
    {
     "ename": "NameError",
     "evalue": "name 'e' is not defined",
     "output_type": "error",
     "traceback": [
      "\u001b[1;31m---------------------------------------------------------------------------\u001b[0m",
      "\u001b[1;31mNameError\u001b[0m                                 Traceback (most recent call last)",
      "Cell \u001b[1;32mIn[11], line 8\u001b[0m\n\u001b[0;32m      6\u001b[0m \u001b[38;5;28mprint\u001b[39m(a)\n\u001b[0;32m      7\u001b[0m test()\n\u001b[1;32m----> 8\u001b[0m \u001b[38;5;28mprint\u001b[39m(e)\n",
      "\u001b[1;31mNameError\u001b[0m: name 'e' is not defined"
     ]
    }
   ],
   "source": [
    "a = \"one\"\n",
    "\n",
    "def test():\n",
    "    e = \"python\" #local variable\n",
    "    return(e)\n",
    "print(a)\n",
    "test()\n",
    "print(e)"
   ]
  },
  {
   "cell_type": "code",
   "execution_count": 4,
   "id": "10467e04",
   "metadata": {},
   "outputs": [
    {
     "name": "stdout",
     "output_type": "stream",
     "text": [
      "one\n",
      "python\n"
     ]
    }
   ],
   "source": [
    "a = \"one\" #global\n",
    "\n",
    "def test(a):\n",
    "    print(a)\n",
    "    a = \"python\" #local\n",
    "    print(a)\n",
    "    \n",
    "test(a)"
   ]
  },
  {
   "cell_type": "code",
   "execution_count": 13,
   "id": "1bf29e14",
   "metadata": {},
   "outputs": [
    {
     "name": "stdout",
     "output_type": "stream",
     "text": [
      "python\n",
      "one\n"
     ]
    }
   ],
   "source": [
    "a = \"one\" #global\n",
    "\n",
    "def test():\n",
    "    a = \"python\" #local variable\n",
    "    print(a)\n",
    "\n",
    "test()\n",
    "print(a)"
   ]
  },
  {
   "cell_type": "code",
   "execution_count": 17,
   "id": "5e80ccf3",
   "metadata": {},
   "outputs": [
    {
     "name": "stdout",
     "output_type": "stream",
     "text": [
      "python\n",
      "python\n"
     ]
    }
   ],
   "source": [
    "a = \"one\" #global\n",
    "\n",
    "def test():\n",
    "    global a\n",
    "    a = \"python\" # local variable, due to global a keyword now it become a global variable\n",
    "    print(a)\n",
    "    \n",
    "test()\n",
    "print(a)"
   ]
  },
  {
   "cell_type": "code",
   "execution_count": 18,
   "id": "e4360984",
   "metadata": {},
   "outputs": [
    {
     "name": "stdout",
     "output_type": "stream",
     "text": [
      "sachin\n",
      "ramesh\n",
      "tendulkar\n"
     ]
    }
   ],
   "source": [
    "def test(fname, mname, lname):\n",
    "    print(fname)\n",
    "    print(mname)\n",
    "    print(lname)\n",
    "    \n",
    "test(\"sachin\", \"ramesh\", \"tendulkar\") #position argument"
   ]
  },
  {
   "cell_type": "code",
   "execution_count": 19,
   "id": "34bbeb77",
   "metadata": {},
   "outputs": [
    {
     "name": "stdout",
     "output_type": "stream",
     "text": [
      "tendulkar\n",
      "ramesh\n",
      "sachin\n"
     ]
    }
   ],
   "source": [
    "def test(fname, mname, lname):\n",
    "    print(fname)\n",
    "    print(mname)\n",
    "    print(lname)\n",
    "    \n",
    "test(lname = \"sachin\", fname = \"tendulkar\", mname = \"ramesh\") # keyword argument"
   ]
  },
  {
   "cell_type": "code",
   "execution_count": 20,
   "id": "c9dd0e3e",
   "metadata": {},
   "outputs": [
    {
     "ename": "TypeError",
     "evalue": "test() missing 2 required positional arguments: 'mname' and 'lname'",
     "output_type": "error",
     "traceback": [
      "\u001b[1;31m---------------------------------------------------------------------------\u001b[0m",
      "\u001b[1;31mTypeError\u001b[0m                                 Traceback (most recent call last)",
      "Cell \u001b[1;32mIn[20], line 6\u001b[0m\n\u001b[0;32m      3\u001b[0m     \u001b[38;5;28mprint\u001b[39m(mname)\n\u001b[0;32m      4\u001b[0m     \u001b[38;5;28mprint\u001b[39m(lname)\n\u001b[1;32m----> 6\u001b[0m test(\u001b[38;5;124m\"\u001b[39m\u001b[38;5;124mdhoni\u001b[39m\u001b[38;5;124m\"\u001b[39m)\n",
      "\u001b[1;31mTypeError\u001b[0m: test() missing 2 required positional arguments: 'mname' and 'lname'"
     ]
    }
   ],
   "source": [
    "def test(fname, mname, lname):\n",
    "    print(fname)\n",
    "    print(mname)\n",
    "    print(lname)\n",
    "    \n",
    "test(\"dhoni\")"
   ]
  },
  {
   "cell_type": "code",
   "execution_count": 21,
   "id": "30805de0",
   "metadata": {},
   "outputs": [
    {
     "name": "stdout",
     "output_type": "stream",
     "text": [
      "dhoni\n",
      "None\n",
      "None\n"
     ]
    }
   ],
   "source": [
    "def test(fname = None, mname = None, lname = None): #default argument\n",
    "    print(fname)\n",
    "    print(mname)\n",
    "    print(lname)\n",
    "    \n",
    "test(\"dhoni\")"
   ]
  },
  {
   "cell_type": "code",
   "execution_count": 6,
   "id": "bd68396f",
   "metadata": {},
   "outputs": [],
   "source": [
    "def test(start_pos, end_pos, mode):\n",
    "    \n",
    "    l = []\n",
    "    \n",
    "    if mode == \"even\":\n",
    "        remainder = 0\n",
    "    else:\n",
    "        remainder = 1\n",
    "        \n",
    "    for i in range(start_pos, end_pos):\n",
    "        if i%2 == remainder:\n",
    "            l.append(i)\n",
    "    return l"
   ]
  },
  {
   "cell_type": "code",
   "execution_count": 26,
   "id": "dc4a5a51",
   "metadata": {},
   "outputs": [
    {
     "name": "stdout",
     "output_type": "stream",
     "text": [
      "[51, 53, 55, 57, 59]\n"
     ]
    }
   ],
   "source": [
    "l = test(50, 60, \"odd\")\n",
    "print(l)"
   ]
  },
  {
   "cell_type": "code",
   "execution_count": 28,
   "id": "5e443922",
   "metadata": {},
   "outputs": [
    {
     "name": "stdout",
     "output_type": "stream",
     "text": [
      "[50, 52, 54, 56, 58]\n"
     ]
    }
   ],
   "source": [
    "l = test(50,60, \"even\")\n",
    "print(l)"
   ]
  },
  {
   "cell_type": "code",
   "execution_count": 32,
   "id": "46e40f40",
   "metadata": {},
   "outputs": [
    {
     "name": "stdout",
     "output_type": "stream",
     "text": [
      "[10, 12, 14, 16, 18]\n"
     ]
    }
   ],
   "source": [
    "\n",
    "a = [i for i in range(10,20) if i %2 == 0]\n",
    "print(a)\n",
    "\n",
    "# list(range(10) )\n",
    "\n",
    "# list(range(10, 20) )\n",
    "\n",
    "# list(range(10, 20 , 2) )\n"
   ]
  },
  {
   "cell_type": "code",
   "execution_count": null,
   "id": "b9c2f8d5",
   "metadata": {},
   "outputs": [],
   "source": []
  }
 ],
 "metadata": {
  "kernelspec": {
   "display_name": "Python 3 (ipykernel)",
   "language": "python",
   "name": "python3"
  },
  "language_info": {
   "codemirror_mode": {
    "name": "ipython",
    "version": 3
   },
   "file_extension": ".py",
   "mimetype": "text/x-python",
   "name": "python",
   "nbconvert_exporter": "python",
   "pygments_lexer": "ipython3",
   "version": "3.11.5"
  }
 },
 "nbformat": 4,
 "nbformat_minor": 5
}
